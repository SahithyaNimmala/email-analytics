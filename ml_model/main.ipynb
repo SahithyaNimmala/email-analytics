{
 "cells": [
  {
   "cell_type": "markdown",
   "metadata": {},
   "source": [
    "# Data Set\n",
    "    - we have taken the twitter data set here is the link for it \n",
    "   \n",
    "## Why  this database  ?\n",
    "    - we observed most of the mails to the customer support are short and crisp \n",
    "    \n",
    "    - where customer tend to say there problem ending up in one sentence \n",
    "    \n",
    "    - research also show there will be an external links in the mail\n",
    "    \n",
    "    - so people like to use emoji (worst case: accidental) \n",
    "     \n",
    "\n",
    "### whats is inside the database ?\n",
    "    \n",
    "    - this data set mainly have the column 'target', 'id', 'date', 'flag', 'user', 'text'\n",
    "    \n",
    "    - if we analysis the 'target' column  data we do have 3 categories 0- negative  4 is positive 2 - neutral \n",
    "    \n",
    "    - another column was sentence where we have text\n",
    "    \n",
    "    - we don't require the rest of the column \n",
    "\n",
    "\n",
    "### Preprocessing \n",
    "    - we decided to change the label classification  from  4 to 1 so it can be fit in our model \n",
    "    \n",
    "    - reason for not taking the neutral into consideration it will flip the polarity of our final target \n",
    "\n",
    "    - we sort the mails on 2 categories  positive and negative \n",
    "    \n",
    "\n"
   ]
  },
  {
   "cell_type": "code",
   "execution_count": 19,
   "metadata": {},
   "outputs": [],
   "source": [
    "import matplotlib.pyplot as plt\n",
    "import pandas as pd\n",
    "import numpy as np\n",
    "import re\n",
    "\n",
    "from sklearn.model_selection import train_test_split\n",
    "\n",
    "from keras.preprocessing.text import Tokenizer\n",
    "from keras.preprocessing.sequence import pad_sequences\n",
    "from keras.models import Sequential\n",
    "from keras.layers import Embedding, Flatten, Dense, GlobalMaxPool1D, Conv1D, LSTM, SpatialDropout1D\n",
    "from keras.layers import Dropout, Bidirectional, BatchNormalization\n",
    "\n",
    "import emoji\n",
    "import nltk\n"
   ]
  },
  {
   "cell_type": "markdown",
   "metadata": {},
   "source": [
    "#### glance of the dataset"
   ]
  },
  {
   "cell_type": "code",
   "execution_count": 20,
   "metadata": {},
   "outputs": [
    {
     "data": {
      "text/html": [
       "<div>\n",
       "<style scoped>\n",
       "    .dataframe tbody tr th:only-of-type {\n",
       "        vertical-align: middle;\n",
       "    }\n",
       "\n",
       "    .dataframe tbody tr th {\n",
       "        vertical-align: top;\n",
       "    }\n",
       "\n",
       "    .dataframe thead th {\n",
       "        text-align: right;\n",
       "    }\n",
       "</style>\n",
       "<table border=\"1\" class=\"dataframe\">\n",
       "  <thead>\n",
       "    <tr style=\"text-align: right;\">\n",
       "      <th></th>\n",
       "      <th>target</th>\n",
       "      <th>id</th>\n",
       "      <th>date</th>\n",
       "      <th>flag</th>\n",
       "      <th>user</th>\n",
       "      <th>text</th>\n",
       "    </tr>\n",
       "  </thead>\n",
       "  <tbody>\n",
       "    <tr>\n",
       "      <th>807024</th>\n",
       "      <td>4</td>\n",
       "      <td>1468918425</td>\n",
       "      <td>Tue Apr 07 04:24:07 PDT 2009</td>\n",
       "      <td>NO_QUERY</td>\n",
       "      <td>kt_m</td>\n",
       "      <td>@xxandip uh oh i take it someone cant spell yo...</td>\n",
       "    </tr>\n",
       "    <tr>\n",
       "      <th>816990</th>\n",
       "      <td>4</td>\n",
       "      <td>1551618587</td>\n",
       "      <td>Sat Apr 18 09:31:58 PDT 2009</td>\n",
       "      <td>NO_QUERY</td>\n",
       "      <td>TrendyNutrition</td>\n",
       "      <td>how do hospitals cut back on oral supplements ...</td>\n",
       "    </tr>\n",
       "    <tr>\n",
       "      <th>806663</th>\n",
       "      <td>4</td>\n",
       "      <td>1468853138</td>\n",
       "      <td>Tue Apr 07 04:04:25 PDT 2009</td>\n",
       "      <td>NO_QUERY</td>\n",
       "      <td>famela</td>\n",
       "      <td>Going on the flyer now!</td>\n",
       "    </tr>\n",
       "    <tr>\n",
       "      <th>807528</th>\n",
       "      <td>4</td>\n",
       "      <td>1469010670</td>\n",
       "      <td>Tue Apr 07 04:49:41 PDT 2009</td>\n",
       "      <td>NO_QUERY</td>\n",
       "      <td>eijay</td>\n",
       "      <td>says bye  text text nalang ;) http://plurk.com...</td>\n",
       "    </tr>\n",
       "    <tr>\n",
       "      <th>8310</th>\n",
       "      <td>0</td>\n",
       "      <td>1470150588</td>\n",
       "      <td>Tue Apr 07 08:29:58 PDT 2009</td>\n",
       "      <td>NO_QUERY</td>\n",
       "      <td>ycandybrooklyn</td>\n",
       "      <td>um.  i think i bombed that quiz.</td>\n",
       "    </tr>\n",
       "    <tr>\n",
       "      <th>...</th>\n",
       "      <td>...</td>\n",
       "      <td>...</td>\n",
       "      <td>...</td>\n",
       "      <td>...</td>\n",
       "      <td>...</td>\n",
       "      <td>...</td>\n",
       "    </tr>\n",
       "    <tr>\n",
       "      <th>27199</th>\n",
       "      <td>0</td>\n",
       "      <td>1559095503</td>\n",
       "      <td>Sun Apr 19 10:14:48 PDT 2009</td>\n",
       "      <td>NO_QUERY</td>\n",
       "      <td>t420</td>\n",
       "      <td>@tcherryx  I ran out of greenery &amp;amp; have no...</td>\n",
       "    </tr>\n",
       "    <tr>\n",
       "      <th>808807</th>\n",
       "      <td>4</td>\n",
       "      <td>1469294121</td>\n",
       "      <td>Tue Apr 07 05:55:02 PDT 2009</td>\n",
       "      <td>NO_QUERY</td>\n",
       "      <td>richmondlincoln</td>\n",
       "      <td>@JanSimpson Thankfully, Ford Motor Company isn...</td>\n",
       "    </tr>\n",
       "    <tr>\n",
       "      <th>829430</th>\n",
       "      <td>4</td>\n",
       "      <td>1557164453</td>\n",
       "      <td>Sun Apr 19 02:23:29 PDT 2009</td>\n",
       "      <td>NO_QUERY</td>\n",
       "      <td>nikkideevah</td>\n",
       "      <td>my feet hurt dayum four inches... in bed though</td>\n",
       "    </tr>\n",
       "    <tr>\n",
       "      <th>20814</th>\n",
       "      <td>0</td>\n",
       "      <td>1557153290</td>\n",
       "      <td>Sun Apr 19 02:19:19 PDT 2009</td>\n",
       "      <td>NO_QUERY</td>\n",
       "      <td>awesome_dan</td>\n",
       "      <td>noone will see these updates! i have no follow...</td>\n",
       "    </tr>\n",
       "    <tr>\n",
       "      <th>829690</th>\n",
       "      <td>4</td>\n",
       "      <td>1557205443</td>\n",
       "      <td>Sun Apr 19 02:38:28 PDT 2009</td>\n",
       "      <td>NO_QUERY</td>\n",
       "      <td>krist0ph3r</td>\n",
       "      <td>@Shadez yeah, diet coke is better than water/s...</td>\n",
       "    </tr>\n",
       "  </tbody>\n",
       "</table>\n",
       "<p>49998 rows × 6 columns</p>\n",
       "</div>"
      ],
      "text/plain": [
       "        target          id                          date      flag  \\\n",
       "807024       4  1468918425  Tue Apr 07 04:24:07 PDT 2009  NO_QUERY   \n",
       "816990       4  1551618587  Sat Apr 18 09:31:58 PDT 2009  NO_QUERY   \n",
       "806663       4  1468853138  Tue Apr 07 04:04:25 PDT 2009  NO_QUERY   \n",
       "807528       4  1469010670  Tue Apr 07 04:49:41 PDT 2009  NO_QUERY   \n",
       "8310         0  1470150588  Tue Apr 07 08:29:58 PDT 2009  NO_QUERY   \n",
       "...        ...         ...                           ...       ...   \n",
       "27199        0  1559095503  Sun Apr 19 10:14:48 PDT 2009  NO_QUERY   \n",
       "808807       4  1469294121  Tue Apr 07 05:55:02 PDT 2009  NO_QUERY   \n",
       "829430       4  1557164453  Sun Apr 19 02:23:29 PDT 2009  NO_QUERY   \n",
       "20814        0  1557153290  Sun Apr 19 02:19:19 PDT 2009  NO_QUERY   \n",
       "829690       4  1557205443  Sun Apr 19 02:38:28 PDT 2009  NO_QUERY   \n",
       "\n",
       "                   user                                               text  \n",
       "807024             kt_m  @xxandip uh oh i take it someone cant spell yo...  \n",
       "816990  TrendyNutrition  how do hospitals cut back on oral supplements ...  \n",
       "806663           famela                           Going on the flyer now!   \n",
       "807528            eijay  says bye  text text nalang ;) http://plurk.com...  \n",
       "8310     ycandybrooklyn                  um.  i think i bombed that quiz.   \n",
       "...                 ...                                                ...  \n",
       "27199              t420  @tcherryx  I ran out of greenery &amp; have no...  \n",
       "808807  richmondlincoln  @JanSimpson Thankfully, Ford Motor Company isn...  \n",
       "829430      nikkideevah   my feet hurt dayum four inches... in bed though   \n",
       "20814       awesome_dan  noone will see these updates! i have no follow...  \n",
       "829690       krist0ph3r  @Shadez yeah, diet coke is better than water/s...  \n",
       "\n",
       "[49998 rows x 6 columns]"
      ]
     },
     "execution_count": 20,
     "metadata": {},
     "output_type": "execute_result"
    }
   ],
   "source": [
    "data_set = pd.read_csv(\"training_set_test.csv\", names=['target', 'id', 'date', 'flag', 'user', 'text'], encoding = 'latin', header=None)\n",
    "data_set\n",
    "# data set before changing "
   ]
  },
  {
   "cell_type": "markdown",
   "metadata": {},
   "source": [
    "### Replacing the label classification from 4 to 1 "
   ]
  },
  {
   "cell_type": "code",
   "execution_count": 21,
   "metadata": {},
   "outputs": [
    {
     "data": {
      "text/html": [
       "<div>\n",
       "<style scoped>\n",
       "    .dataframe tbody tr th:only-of-type {\n",
       "        vertical-align: middle;\n",
       "    }\n",
       "\n",
       "    .dataframe tbody tr th {\n",
       "        vertical-align: top;\n",
       "    }\n",
       "\n",
       "    .dataframe thead th {\n",
       "        text-align: right;\n",
       "    }\n",
       "</style>\n",
       "<table border=\"1\" class=\"dataframe\">\n",
       "  <thead>\n",
       "    <tr style=\"text-align: right;\">\n",
       "      <th></th>\n",
       "      <th>target</th>\n",
       "      <th>id</th>\n",
       "      <th>date</th>\n",
       "      <th>flag</th>\n",
       "      <th>user</th>\n",
       "      <th>text</th>\n",
       "    </tr>\n",
       "  </thead>\n",
       "  <tbody>\n",
       "    <tr>\n",
       "      <th>807024</th>\n",
       "      <td>1</td>\n",
       "      <td>1468918425</td>\n",
       "      <td>Tue Apr 07 04:24:07 PDT 2009</td>\n",
       "      <td>NO_QUERY</td>\n",
       "      <td>kt_m</td>\n",
       "      <td>@xxandip uh oh i take it someone cant spell yo...</td>\n",
       "    </tr>\n",
       "    <tr>\n",
       "      <th>816990</th>\n",
       "      <td>1</td>\n",
       "      <td>1551618587</td>\n",
       "      <td>Sat Apr 18 09:31:58 PDT 2009</td>\n",
       "      <td>NO_QUERY</td>\n",
       "      <td>TrendyNutrition</td>\n",
       "      <td>how do hospitals cut back on oral supplements ...</td>\n",
       "    </tr>\n",
       "    <tr>\n",
       "      <th>806663</th>\n",
       "      <td>1</td>\n",
       "      <td>1468853138</td>\n",
       "      <td>Tue Apr 07 04:04:25 PDT 2009</td>\n",
       "      <td>NO_QUERY</td>\n",
       "      <td>famela</td>\n",
       "      <td>Going on the flyer now!</td>\n",
       "    </tr>\n",
       "    <tr>\n",
       "      <th>807528</th>\n",
       "      <td>1</td>\n",
       "      <td>1469010670</td>\n",
       "      <td>Tue Apr 07 04:49:41 PDT 2009</td>\n",
       "      <td>NO_QUERY</td>\n",
       "      <td>eijay</td>\n",
       "      <td>says bye  text text nalang ;) http://plurk.com...</td>\n",
       "    </tr>\n",
       "    <tr>\n",
       "      <th>8310</th>\n",
       "      <td>0</td>\n",
       "      <td>1470150588</td>\n",
       "      <td>Tue Apr 07 08:29:58 PDT 2009</td>\n",
       "      <td>NO_QUERY</td>\n",
       "      <td>ycandybrooklyn</td>\n",
       "      <td>um.  i think i bombed that quiz.</td>\n",
       "    </tr>\n",
       "    <tr>\n",
       "      <th>...</th>\n",
       "      <td>...</td>\n",
       "      <td>...</td>\n",
       "      <td>...</td>\n",
       "      <td>...</td>\n",
       "      <td>...</td>\n",
       "      <td>...</td>\n",
       "    </tr>\n",
       "    <tr>\n",
       "      <th>27199</th>\n",
       "      <td>0</td>\n",
       "      <td>1559095503</td>\n",
       "      <td>Sun Apr 19 10:14:48 PDT 2009</td>\n",
       "      <td>NO_QUERY</td>\n",
       "      <td>t420</td>\n",
       "      <td>@tcherryx  I ran out of greenery &amp;amp; have no...</td>\n",
       "    </tr>\n",
       "    <tr>\n",
       "      <th>808807</th>\n",
       "      <td>1</td>\n",
       "      <td>1469294121</td>\n",
       "      <td>Tue Apr 07 05:55:02 PDT 2009</td>\n",
       "      <td>NO_QUERY</td>\n",
       "      <td>richmondlincoln</td>\n",
       "      <td>@JanSimpson Thankfully, Ford Motor Company isn...</td>\n",
       "    </tr>\n",
       "    <tr>\n",
       "      <th>829430</th>\n",
       "      <td>1</td>\n",
       "      <td>1557164453</td>\n",
       "      <td>Sun Apr 19 02:23:29 PDT 2009</td>\n",
       "      <td>NO_QUERY</td>\n",
       "      <td>nikkideevah</td>\n",
       "      <td>my feet hurt dayum four inches... in bed though</td>\n",
       "    </tr>\n",
       "    <tr>\n",
       "      <th>20814</th>\n",
       "      <td>0</td>\n",
       "      <td>1557153290</td>\n",
       "      <td>Sun Apr 19 02:19:19 PDT 2009</td>\n",
       "      <td>NO_QUERY</td>\n",
       "      <td>awesome_dan</td>\n",
       "      <td>noone will see these updates! i have no follow...</td>\n",
       "    </tr>\n",
       "    <tr>\n",
       "      <th>829690</th>\n",
       "      <td>1</td>\n",
       "      <td>1557205443</td>\n",
       "      <td>Sun Apr 19 02:38:28 PDT 2009</td>\n",
       "      <td>NO_QUERY</td>\n",
       "      <td>krist0ph3r</td>\n",
       "      <td>@Shadez yeah, diet coke is better than water/s...</td>\n",
       "    </tr>\n",
       "  </tbody>\n",
       "</table>\n",
       "<p>49998 rows × 6 columns</p>\n",
       "</div>"
      ],
      "text/plain": [
       "        target          id                          date      flag  \\\n",
       "807024       1  1468918425  Tue Apr 07 04:24:07 PDT 2009  NO_QUERY   \n",
       "816990       1  1551618587  Sat Apr 18 09:31:58 PDT 2009  NO_QUERY   \n",
       "806663       1  1468853138  Tue Apr 07 04:04:25 PDT 2009  NO_QUERY   \n",
       "807528       1  1469010670  Tue Apr 07 04:49:41 PDT 2009  NO_QUERY   \n",
       "8310         0  1470150588  Tue Apr 07 08:29:58 PDT 2009  NO_QUERY   \n",
       "...        ...         ...                           ...       ...   \n",
       "27199        0  1559095503  Sun Apr 19 10:14:48 PDT 2009  NO_QUERY   \n",
       "808807       1  1469294121  Tue Apr 07 05:55:02 PDT 2009  NO_QUERY   \n",
       "829430       1  1557164453  Sun Apr 19 02:23:29 PDT 2009  NO_QUERY   \n",
       "20814        0  1557153290  Sun Apr 19 02:19:19 PDT 2009  NO_QUERY   \n",
       "829690       1  1557205443  Sun Apr 19 02:38:28 PDT 2009  NO_QUERY   \n",
       "\n",
       "                   user                                               text  \n",
       "807024             kt_m  @xxandip uh oh i take it someone cant spell yo...  \n",
       "816990  TrendyNutrition  how do hospitals cut back on oral supplements ...  \n",
       "806663           famela                           Going on the flyer now!   \n",
       "807528            eijay  says bye  text text nalang ;) http://plurk.com...  \n",
       "8310     ycandybrooklyn                  um.  i think i bombed that quiz.   \n",
       "...                 ...                                                ...  \n",
       "27199              t420  @tcherryx  I ran out of greenery &amp; have no...  \n",
       "808807  richmondlincoln  @JanSimpson Thankfully, Ford Motor Company isn...  \n",
       "829430      nikkideevah   my feet hurt dayum four inches... in bed though   \n",
       "20814       awesome_dan  noone will see these updates! i have no follow...  \n",
       "829690       krist0ph3r  @Shadez yeah, diet coke is better than water/s...  \n",
       "\n",
       "[49998 rows x 6 columns]"
      ]
     },
     "execution_count": 21,
     "metadata": {},
     "output_type": "execute_result"
    }
   ],
   "source": [
    "# changing the classification label form 4 --> 1\n",
    "data_set['target'].replace({4: 1}, inplace=True)\n",
    "data_set"
   ]
  },
  {
   "cell_type": "markdown",
   "metadata": {},
   "source": [
    "Writing a  function block that helps us to clean the  data from the following \n",
    "\n",
    "    - removing the @ sign \n",
    "    \n",
    "    - removing HTTP links \n",
    "\n",
    "    - removing  emojis \n",
    "\n",
    "    - remove hashtags "
   ]
  },
  {
   "cell_type": "code",
   "execution_count": 22,
   "metadata": {},
   "outputs": [],
   "source": [
    "def clean_data(data_set):\n",
    "\n",
    "   # Remove @ sign\n",
    "   data_set = re.sub(\"@[A-Za-z0-9]+\", \"\", data_set)  \n",
    "   \n",
    "   # Remove http links\n",
    "   data_set = re.sub(r\"(?:\\@|http?\\://|https?\\://|www)\\S+\", \"\", data_set)  \n",
    "   data_set = \" \".join(data_set.split())\n",
    "   \n",
    "   # Remove Emojis\n",
    "   data_set = ''.join(c for c in data_set if c not in emoji.UNICODE_EMOJI)  \n",
    "   \n",
    "   # Remove hashtag sign and keep the text\n",
    "   data_set = data_set.replace(\"#\", \"\").replace(\"_\", \" \")  \n",
    "   data_set = \" \".join(w for w in nltk.wordpunct_tokenize(data_set))\n",
    "   return data_set"
   ]
  },
  {
   "cell_type": "markdown",
   "metadata": {},
   "source": [
    "# glance of data after cleaning data "
   ]
  },
  {
   "cell_type": "code",
   "execution_count": 23,
   "metadata": {},
   "outputs": [
    {
     "data": {
      "text/html": [
       "<div>\n",
       "<style scoped>\n",
       "    .dataframe tbody tr th:only-of-type {\n",
       "        vertical-align: middle;\n",
       "    }\n",
       "\n",
       "    .dataframe tbody tr th {\n",
       "        vertical-align: top;\n",
       "    }\n",
       "\n",
       "    .dataframe thead th {\n",
       "        text-align: right;\n",
       "    }\n",
       "</style>\n",
       "<table border=\"1\" class=\"dataframe\">\n",
       "  <thead>\n",
       "    <tr style=\"text-align: right;\">\n",
       "      <th></th>\n",
       "      <th>target</th>\n",
       "      <th>id</th>\n",
       "      <th>date</th>\n",
       "      <th>flag</th>\n",
       "      <th>user</th>\n",
       "      <th>text</th>\n",
       "    </tr>\n",
       "  </thead>\n",
       "  <tbody>\n",
       "    <tr>\n",
       "      <th>807024</th>\n",
       "      <td>1</td>\n",
       "      <td>1468918425</td>\n",
       "      <td>Tue Apr 07 04:24:07 PDT 2009</td>\n",
       "      <td>NO_QUERY</td>\n",
       "      <td>kt_m</td>\n",
       "      <td>@xxandip uh oh i take it someone cant spell yo...</td>\n",
       "    </tr>\n",
       "    <tr>\n",
       "      <th>816990</th>\n",
       "      <td>1</td>\n",
       "      <td>1551618587</td>\n",
       "      <td>Sat Apr 18 09:31:58 PDT 2009</td>\n",
       "      <td>NO_QUERY</td>\n",
       "      <td>TrendyNutrition</td>\n",
       "      <td>how do hospitals cut back on oral supplements ...</td>\n",
       "    </tr>\n",
       "    <tr>\n",
       "      <th>806663</th>\n",
       "      <td>1</td>\n",
       "      <td>1468853138</td>\n",
       "      <td>Tue Apr 07 04:04:25 PDT 2009</td>\n",
       "      <td>NO_QUERY</td>\n",
       "      <td>famela</td>\n",
       "      <td>Going on the flyer now!</td>\n",
       "    </tr>\n",
       "    <tr>\n",
       "      <th>807528</th>\n",
       "      <td>1</td>\n",
       "      <td>1469010670</td>\n",
       "      <td>Tue Apr 07 04:49:41 PDT 2009</td>\n",
       "      <td>NO_QUERY</td>\n",
       "      <td>eijay</td>\n",
       "      <td>says bye  text text nalang ;) http://plurk.com...</td>\n",
       "    </tr>\n",
       "    <tr>\n",
       "      <th>8310</th>\n",
       "      <td>0</td>\n",
       "      <td>1470150588</td>\n",
       "      <td>Tue Apr 07 08:29:58 PDT 2009</td>\n",
       "      <td>NO_QUERY</td>\n",
       "      <td>ycandybrooklyn</td>\n",
       "      <td>um.  i think i bombed that quiz.</td>\n",
       "    </tr>\n",
       "  </tbody>\n",
       "</table>\n",
       "</div>"
      ],
      "text/plain": [
       "        target          id                          date      flag  \\\n",
       "807024       1  1468918425  Tue Apr 07 04:24:07 PDT 2009  NO_QUERY   \n",
       "816990       1  1551618587  Sat Apr 18 09:31:58 PDT 2009  NO_QUERY   \n",
       "806663       1  1468853138  Tue Apr 07 04:04:25 PDT 2009  NO_QUERY   \n",
       "807528       1  1469010670  Tue Apr 07 04:49:41 PDT 2009  NO_QUERY   \n",
       "8310         0  1470150588  Tue Apr 07 08:29:58 PDT 2009  NO_QUERY   \n",
       "\n",
       "                   user                                               text  \n",
       "807024             kt_m  @xxandip uh oh i take it someone cant spell yo...  \n",
       "816990  TrendyNutrition  how do hospitals cut back on oral supplements ...  \n",
       "806663           famela                           Going on the flyer now!   \n",
       "807528            eijay  says bye  text text nalang ;) http://plurk.com...  \n",
       "8310     ycandybrooklyn                  um.  i think i bombed that quiz.   "
      ]
     },
     "execution_count": 23,
     "metadata": {},
     "output_type": "execute_result"
    }
   ],
   "source": [
    "# data set before cleaning \n",
    "data_set.head()"
   ]
  },
  {
   "cell_type": "code",
   "execution_count": 24,
   "metadata": {},
   "outputs": [],
   "source": [
    "data_set['text'] = data_set['text'].map(lambda x: clean_data(x))\n",
    "text = data_set['text']\n",
    "label = data_set['target']"
   ]
  },
  {
   "cell_type": "code",
   "execution_count": 25,
   "metadata": {},
   "outputs": [
    {
     "data": {
      "text/plain": [
       "807024    uh oh i take it someone cant spell your name ?...\n",
       "816990    how do hospitals cut back on oral supplements ...\n",
       "806663                             Going on the flyer now !\n",
       "807528                         says bye text text nalang ;)\n",
       "8310                      um . i think i bombed that quiz .\n",
       "Name: text, dtype: object"
      ]
     },
     "execution_count": 25,
     "metadata": {},
     "output_type": "execute_result"
    }
   ],
   "source": [
    "text.head()"
   ]
  },
  {
   "cell_type": "code",
   "execution_count": 26,
   "metadata": {},
   "outputs": [
    {
     "data": {
      "text/plain": [
       "807024    1\n",
       "816990    1\n",
       "806663    1\n",
       "807528    1\n",
       "8310      0\n",
       "Name: target, dtype: int64"
      ]
     },
     "execution_count": 26,
     "metadata": {},
     "output_type": "execute_result"
    }
   ],
   "source": [
    "label.head()"
   ]
  },
  {
   "cell_type": "markdown",
   "metadata": {},
   "source": [
    "## Split the test and training data using the sklearn train_test_split"
   ]
  },
  {
   "cell_type": "code",
   "execution_count": 27,
   "metadata": {},
   "outputs": [],
   "source": [
    "train_data , test_data , target_train, target_test = train_test_split(text, label,random_state=1000,) \n"
   ]
  },
  {
   "cell_type": "markdown",
   "metadata": {},
   "source": [
    "The next step is to follow tokenization \n",
    "\n",
    "# Tokenization \n",
    "\n",
    "*fit_on_texts* : Updates internal vocabulary based on a list of texts. This method creates the vocabulary index based on word frequency. So if you give it something like, \"The cat sat on the mat.\" It will create a dictionary s.t. word_index[\"the\"] = 1; word_index[\"cat\"] = 2 it is word -> index dictionary so every word gets a unique integer value. 0 is reserved for padding. So lower integer means more frequent word (often the first few are stop words because they appear a lot).\n",
    "\n",
    "*texts_to_sequences* : Transforms each text in texts to a sequence of integers. So it basically takes each word in the text and replaces it with its corresponding integer value from the word_index dictionary. Nothing more, nothing less, certainly no magic involved."
   ]
  },
  {
   "cell_type": "code",
   "execution_count": 65,
   "metadata": {},
   "outputs": [],
   "source": [
    "# max tokens in one sentence\n",
    "train_data.to_pickle('test_data.pkl')\n",
    "maxlen = 60  \n",
    "tokenizer = Tokenizer()\n",
    "tokenizer.fit_on_texts(train_data)\n",
    "vocab_size = len(tokenizer.word_index) + 1\n",
    "\n",
    "\n",
    "# transform sentence  to vector\n",
    "X_train = tokenizer.texts_to_sequences(train_data)\n",
    "X_test = tokenizer.texts_to_sequences(test_data)\n",
    "\n",
    "# padding sequence\n",
    "X_train = pad_sequences(X_train, padding='post', maxlen=maxlen)\n",
    "X_test = pad_sequences(X_test, padding='post', maxlen=maxlen)\n"
   ]
  },
  {
   "cell_type": "code",
   "execution_count": 29,
   "metadata": {},
   "outputs": [
    {
     "data": {
      "text/plain": [
       "array([[6829, 3110,  135, ...,    0,    0,    0],\n",
       "       [ 686,   37,    7, ...,    0,    0,    0],\n",
       "       [ 384,    8, 8719, ...,    0,    0,    0],\n",
       "       ...,\n",
       "       [  23, 1135,    4, ...,    0,    0,    0],\n",
       "       [ 445,  698,    1, ...,    0,    0,    0],\n",
       "       [ 575,  330,   13, ...,    0,    0,    0]], dtype=int32)"
      ]
     },
     "execution_count": 29,
     "metadata": {},
     "output_type": "execute_result"
    }
   ],
   "source": [
    "X_train"
   ]
  },
  {
   "cell_type": "code",
   "execution_count": 30,
   "metadata": {},
   "outputs": [
    {
     "data": {
      "text/plain": [
       "array([[  55,    9,   62, ...,    0,    0,    0],\n",
       "       [   1,   33,   70, ...,    0,    0,    0],\n",
       "       [ 663,    1,   74, ...,    0,    0,    0],\n",
       "       ...,\n",
       "       [ 143,  294,   85, ...,    0,    0,    0],\n",
       "       [1186, 3024, 2446, ...,    0,    0,    0],\n",
       "       [  90,  146,    1, ...,    0,    0,    0]], dtype=int32)"
      ]
     },
     "execution_count": 30,
     "metadata": {},
     "output_type": "execute_result"
    }
   ],
   "source": [
    "X_test"
   ]
  },
  {
   "cell_type": "markdown",
   "metadata": {},
   "source": [
    "By using an embedding layer as the first layer of our network we need to specify what is the embedding dimension (ie. the dimension of the vector associated to the integer of the sequence)"
   ]
  },
  {
   "cell_type": "code",
   "execution_count": 31,
   "metadata": {},
   "outputs": [],
   "source": [
    "embedding_dim = 100"
   ]
  },
  {
   "cell_type": "markdown",
   "metadata": {},
   "source": [
    "# Plotting the results \n",
    " - This function block helps in plotting graph"
   ]
  },
  {
   "cell_type": "code",
   "execution_count": 32,
   "metadata": {},
   "outputs": [],
   "source": [
    "def plot_history(history):\n",
    "   acc = history.history['accuracy']\n",
    "   val_acc = history.history['val_accuracy']\n",
    "   loss = history.history['loss']\n",
    "   val_loss = history.history['val_loss']\n",
    "   x = range(1, len(acc) + 1)\n",
    "\n",
    "   plt.figure(figsize=(12, 5))\n",
    "   plt.subplot(1, 2, 1)\n",
    "   plt.plot(x, acc, 'b', label='Training acc')\n",
    "   plt.plot(x, val_acc, 'r', label='Validation acc')\n",
    "   plt.title('Training and validation accuracy')\n",
    "   plt.legend()\n",
    "   plt.subplot(1, 2, 2)\n",
    "   plt.plot(x, loss, 'b', label='Training loss')\n",
    "   plt.plot(x, val_loss, 'r', label='Validation loss')\n",
    "   plt.title('Training and validation loss')\n",
    "   plt.legend()"
   ]
  },
  {
   "cell_type": "markdown",
   "metadata": {},
   "source": [
    "# Creating machine learning pipeline"
   ]
  },
  {
   "cell_type": "code",
   "execution_count": 33,
   "metadata": {},
   "outputs": [],
   "source": [
    "model = Sequential()\n",
    "model.add(Embedding(input_dim=vocab_size, output_dim=embedding_dim, input_length=maxlen))\n",
    "model.add(GlobalMaxPool1D())\n",
    "model.add(Dense(10, activation='relu'))\n",
    "model.add(Dense(1, activation='sigmoid'))\n",
    "model.compile(optimizer='adam', loss='binary_crossentropy', metrics=['accuracy'])"
   ]
  },
  {
   "cell_type": "code",
   "execution_count": 34,
   "metadata": {},
   "outputs": [
    {
     "name": "stdout",
     "output_type": "stream",
     "text": [
      "Epoch 1/10\n",
      "125/250 [==============>...............] - ETA: 4s - loss: 0.6511 - accuracy: 0.6806"
     ]
    },
    {
     "ename": "KeyboardInterrupt",
     "evalue": "",
     "output_type": "error",
     "traceback": [
      "\u001b[0;31m---------------------------------------------------------------------------\u001b[0m",
      "\u001b[0;31mKeyboardInterrupt\u001b[0m                         Traceback (most recent call last)",
      "\u001b[0;32m/tmp/ipykernel_96215/1304319028.py\u001b[0m in \u001b[0;36m<module>\u001b[0;34m\u001b[0m\n\u001b[0;32m----> 1\u001b[0;31m \u001b[0mhistory\u001b[0m \u001b[0;34m=\u001b[0m \u001b[0mmodel\u001b[0m\u001b[0;34m.\u001b[0m\u001b[0mfit\u001b[0m\u001b[0;34m(\u001b[0m\u001b[0mX_train\u001b[0m\u001b[0;34m,\u001b[0m \u001b[0mtarget_train\u001b[0m\u001b[0;34m,\u001b[0m \u001b[0mepochs\u001b[0m\u001b[0;34m=\u001b[0m\u001b[0;36m10\u001b[0m\u001b[0;34m,\u001b[0m\u001b[0mverbose\u001b[0m\u001b[0;34m=\u001b[0m\u001b[0;36m1\u001b[0m\u001b[0;34m,\u001b[0m \u001b[0mvalidation_data\u001b[0m\u001b[0;34m=\u001b[0m\u001b[0;34m(\u001b[0m\u001b[0mX_test\u001b[0m\u001b[0;34m,\u001b[0m \u001b[0mtarget_test\u001b[0m\u001b[0;34m)\u001b[0m\u001b[0;34m,\u001b[0m \u001b[0mbatch_size\u001b[0m\u001b[0;34m=\u001b[0m\u001b[0;36m150\u001b[0m\u001b[0;34m)\u001b[0m\u001b[0;34m\u001b[0m\u001b[0;34m\u001b[0m\u001b[0m\n\u001b[0m",
      "\u001b[0;32m~/Desktop/freelancing/email-analytics/env/lib/python3.8/site-packages/keras/utils/traceback_utils.py\u001b[0m in \u001b[0;36merror_handler\u001b[0;34m(*args, **kwargs)\u001b[0m\n\u001b[1;32m     62\u001b[0m     \u001b[0mfiltered_tb\u001b[0m \u001b[0;34m=\u001b[0m \u001b[0;32mNone\u001b[0m\u001b[0;34m\u001b[0m\u001b[0;34m\u001b[0m\u001b[0m\n\u001b[1;32m     63\u001b[0m     \u001b[0;32mtry\u001b[0m\u001b[0;34m:\u001b[0m\u001b[0;34m\u001b[0m\u001b[0;34m\u001b[0m\u001b[0m\n\u001b[0;32m---> 64\u001b[0;31m       \u001b[0;32mreturn\u001b[0m \u001b[0mfn\u001b[0m\u001b[0;34m(\u001b[0m\u001b[0;34m*\u001b[0m\u001b[0margs\u001b[0m\u001b[0;34m,\u001b[0m \u001b[0;34m**\u001b[0m\u001b[0mkwargs\u001b[0m\u001b[0;34m)\u001b[0m\u001b[0;34m\u001b[0m\u001b[0;34m\u001b[0m\u001b[0m\n\u001b[0m\u001b[1;32m     65\u001b[0m     \u001b[0;32mexcept\u001b[0m \u001b[0mException\u001b[0m \u001b[0;32mas\u001b[0m \u001b[0me\u001b[0m\u001b[0;34m:\u001b[0m  \u001b[0;31m# pylint: disable=broad-except\u001b[0m\u001b[0;34m\u001b[0m\u001b[0;34m\u001b[0m\u001b[0m\n\u001b[1;32m     66\u001b[0m       \u001b[0mfiltered_tb\u001b[0m \u001b[0;34m=\u001b[0m \u001b[0m_process_traceback_frames\u001b[0m\u001b[0;34m(\u001b[0m\u001b[0me\u001b[0m\u001b[0;34m.\u001b[0m\u001b[0m__traceback__\u001b[0m\u001b[0;34m)\u001b[0m\u001b[0;34m\u001b[0m\u001b[0;34m\u001b[0m\u001b[0m\n",
      "\u001b[0;32m~/Desktop/freelancing/email-analytics/env/lib/python3.8/site-packages/keras/engine/training.py\u001b[0m in \u001b[0;36mfit\u001b[0;34m(self, x, y, batch_size, epochs, verbose, callbacks, validation_split, validation_data, shuffle, class_weight, sample_weight, initial_epoch, steps_per_epoch, validation_steps, validation_batch_size, validation_freq, max_queue_size, workers, use_multiprocessing)\u001b[0m\n\u001b[1;32m   1214\u001b[0m                 _r=1):\n\u001b[1;32m   1215\u001b[0m               \u001b[0mcallbacks\u001b[0m\u001b[0;34m.\u001b[0m\u001b[0mon_train_batch_begin\u001b[0m\u001b[0;34m(\u001b[0m\u001b[0mstep\u001b[0m\u001b[0;34m)\u001b[0m\u001b[0;34m\u001b[0m\u001b[0;34m\u001b[0m\u001b[0m\n\u001b[0;32m-> 1216\u001b[0;31m               \u001b[0mtmp_logs\u001b[0m \u001b[0;34m=\u001b[0m \u001b[0mself\u001b[0m\u001b[0;34m.\u001b[0m\u001b[0mtrain_function\u001b[0m\u001b[0;34m(\u001b[0m\u001b[0miterator\u001b[0m\u001b[0;34m)\u001b[0m\u001b[0;34m\u001b[0m\u001b[0;34m\u001b[0m\u001b[0m\n\u001b[0m\u001b[1;32m   1217\u001b[0m               \u001b[0;32mif\u001b[0m \u001b[0mdata_handler\u001b[0m\u001b[0;34m.\u001b[0m\u001b[0mshould_sync\u001b[0m\u001b[0;34m:\u001b[0m\u001b[0;34m\u001b[0m\u001b[0;34m\u001b[0m\u001b[0m\n\u001b[1;32m   1218\u001b[0m                 \u001b[0mcontext\u001b[0m\u001b[0;34m.\u001b[0m\u001b[0masync_wait\u001b[0m\u001b[0;34m(\u001b[0m\u001b[0;34m)\u001b[0m\u001b[0;34m\u001b[0m\u001b[0;34m\u001b[0m\u001b[0m\n",
      "\u001b[0;32m~/Desktop/freelancing/email-analytics/env/lib/python3.8/site-packages/tensorflow/python/util/traceback_utils.py\u001b[0m in \u001b[0;36merror_handler\u001b[0;34m(*args, **kwargs)\u001b[0m\n\u001b[1;32m    148\u001b[0m     \u001b[0mfiltered_tb\u001b[0m \u001b[0;34m=\u001b[0m \u001b[0;32mNone\u001b[0m\u001b[0;34m\u001b[0m\u001b[0;34m\u001b[0m\u001b[0m\n\u001b[1;32m    149\u001b[0m     \u001b[0;32mtry\u001b[0m\u001b[0;34m:\u001b[0m\u001b[0;34m\u001b[0m\u001b[0;34m\u001b[0m\u001b[0m\n\u001b[0;32m--> 150\u001b[0;31m       \u001b[0;32mreturn\u001b[0m \u001b[0mfn\u001b[0m\u001b[0;34m(\u001b[0m\u001b[0;34m*\u001b[0m\u001b[0margs\u001b[0m\u001b[0;34m,\u001b[0m \u001b[0;34m**\u001b[0m\u001b[0mkwargs\u001b[0m\u001b[0;34m)\u001b[0m\u001b[0;34m\u001b[0m\u001b[0;34m\u001b[0m\u001b[0m\n\u001b[0m\u001b[1;32m    151\u001b[0m     \u001b[0;32mexcept\u001b[0m \u001b[0mException\u001b[0m \u001b[0;32mas\u001b[0m \u001b[0me\u001b[0m\u001b[0;34m:\u001b[0m\u001b[0;34m\u001b[0m\u001b[0;34m\u001b[0m\u001b[0m\n\u001b[1;32m    152\u001b[0m       \u001b[0mfiltered_tb\u001b[0m \u001b[0;34m=\u001b[0m \u001b[0m_process_traceback_frames\u001b[0m\u001b[0;34m(\u001b[0m\u001b[0me\u001b[0m\u001b[0;34m.\u001b[0m\u001b[0m__traceback__\u001b[0m\u001b[0;34m)\u001b[0m\u001b[0;34m\u001b[0m\u001b[0;34m\u001b[0m\u001b[0m\n",
      "\u001b[0;32m~/Desktop/freelancing/email-analytics/env/lib/python3.8/site-packages/tensorflow/python/eager/def_function.py\u001b[0m in \u001b[0;36m__call__\u001b[0;34m(self, *args, **kwds)\u001b[0m\n\u001b[1;32m    908\u001b[0m \u001b[0;34m\u001b[0m\u001b[0m\n\u001b[1;32m    909\u001b[0m       \u001b[0;32mwith\u001b[0m \u001b[0mOptionalXlaContext\u001b[0m\u001b[0;34m(\u001b[0m\u001b[0mself\u001b[0m\u001b[0;34m.\u001b[0m\u001b[0m_jit_compile\u001b[0m\u001b[0;34m)\u001b[0m\u001b[0;34m:\u001b[0m\u001b[0;34m\u001b[0m\u001b[0;34m\u001b[0m\u001b[0m\n\u001b[0;32m--> 910\u001b[0;31m         \u001b[0mresult\u001b[0m \u001b[0;34m=\u001b[0m \u001b[0mself\u001b[0m\u001b[0;34m.\u001b[0m\u001b[0m_call\u001b[0m\u001b[0;34m(\u001b[0m\u001b[0;34m*\u001b[0m\u001b[0margs\u001b[0m\u001b[0;34m,\u001b[0m \u001b[0;34m**\u001b[0m\u001b[0mkwds\u001b[0m\u001b[0;34m)\u001b[0m\u001b[0;34m\u001b[0m\u001b[0;34m\u001b[0m\u001b[0m\n\u001b[0m\u001b[1;32m    911\u001b[0m \u001b[0;34m\u001b[0m\u001b[0m\n\u001b[1;32m    912\u001b[0m       \u001b[0mnew_tracing_count\u001b[0m \u001b[0;34m=\u001b[0m \u001b[0mself\u001b[0m\u001b[0;34m.\u001b[0m\u001b[0mexperimental_get_tracing_count\u001b[0m\u001b[0;34m(\u001b[0m\u001b[0;34m)\u001b[0m\u001b[0;34m\u001b[0m\u001b[0;34m\u001b[0m\u001b[0m\n",
      "\u001b[0;32m~/Desktop/freelancing/email-analytics/env/lib/python3.8/site-packages/tensorflow/python/eager/def_function.py\u001b[0m in \u001b[0;36m_call\u001b[0;34m(self, *args, **kwds)\u001b[0m\n\u001b[1;32m    940\u001b[0m       \u001b[0;31m# In this case we have created variables on the first call, so we run the\u001b[0m\u001b[0;34m\u001b[0m\u001b[0;34m\u001b[0m\u001b[0;34m\u001b[0m\u001b[0m\n\u001b[1;32m    941\u001b[0m       \u001b[0;31m# defunned version which is guaranteed to never create variables.\u001b[0m\u001b[0;34m\u001b[0m\u001b[0;34m\u001b[0m\u001b[0;34m\u001b[0m\u001b[0m\n\u001b[0;32m--> 942\u001b[0;31m       \u001b[0;32mreturn\u001b[0m \u001b[0mself\u001b[0m\u001b[0;34m.\u001b[0m\u001b[0m_stateless_fn\u001b[0m\u001b[0;34m(\u001b[0m\u001b[0;34m*\u001b[0m\u001b[0margs\u001b[0m\u001b[0;34m,\u001b[0m \u001b[0;34m**\u001b[0m\u001b[0mkwds\u001b[0m\u001b[0;34m)\u001b[0m  \u001b[0;31m# pylint: disable=not-callable\u001b[0m\u001b[0;34m\u001b[0m\u001b[0;34m\u001b[0m\u001b[0m\n\u001b[0m\u001b[1;32m    943\u001b[0m     \u001b[0;32melif\u001b[0m \u001b[0mself\u001b[0m\u001b[0;34m.\u001b[0m\u001b[0m_stateful_fn\u001b[0m \u001b[0;32mis\u001b[0m \u001b[0;32mnot\u001b[0m \u001b[0;32mNone\u001b[0m\u001b[0;34m:\u001b[0m\u001b[0;34m\u001b[0m\u001b[0;34m\u001b[0m\u001b[0m\n\u001b[1;32m    944\u001b[0m       \u001b[0;31m# Release the lock early so that multiple threads can perform the call\u001b[0m\u001b[0;34m\u001b[0m\u001b[0;34m\u001b[0m\u001b[0;34m\u001b[0m\u001b[0m\n",
      "\u001b[0;32m~/Desktop/freelancing/email-analytics/env/lib/python3.8/site-packages/tensorflow/python/eager/function.py\u001b[0m in \u001b[0;36m__call__\u001b[0;34m(self, *args, **kwargs)\u001b[0m\n\u001b[1;32m   3128\u001b[0m       (graph_function,\n\u001b[1;32m   3129\u001b[0m        filtered_flat_args) = self._maybe_define_function(args, kwargs)\n\u001b[0;32m-> 3130\u001b[0;31m     return graph_function._call_flat(\n\u001b[0m\u001b[1;32m   3131\u001b[0m         filtered_flat_args, captured_inputs=graph_function.captured_inputs)  # pylint: disable=protected-access\n\u001b[1;32m   3132\u001b[0m \u001b[0;34m\u001b[0m\u001b[0m\n",
      "\u001b[0;32m~/Desktop/freelancing/email-analytics/env/lib/python3.8/site-packages/tensorflow/python/eager/function.py\u001b[0m in \u001b[0;36m_call_flat\u001b[0;34m(self, args, captured_inputs, cancellation_manager)\u001b[0m\n\u001b[1;32m   1957\u001b[0m         and executing_eagerly):\n\u001b[1;32m   1958\u001b[0m       \u001b[0;31m# No tape is watching; skip to running the function.\u001b[0m\u001b[0;34m\u001b[0m\u001b[0;34m\u001b[0m\u001b[0;34m\u001b[0m\u001b[0m\n\u001b[0;32m-> 1959\u001b[0;31m       return self._build_call_outputs(self._inference_function.call(\n\u001b[0m\u001b[1;32m   1960\u001b[0m           ctx, args, cancellation_manager=cancellation_manager))\n\u001b[1;32m   1961\u001b[0m     forward_backward = self._select_forward_and_backward_functions(\n",
      "\u001b[0;32m~/Desktop/freelancing/email-analytics/env/lib/python3.8/site-packages/tensorflow/python/eager/function.py\u001b[0m in \u001b[0;36mcall\u001b[0;34m(self, ctx, args, cancellation_manager)\u001b[0m\n\u001b[1;32m    596\u001b[0m       \u001b[0;32mwith\u001b[0m \u001b[0m_InterpolateFunctionError\u001b[0m\u001b[0;34m(\u001b[0m\u001b[0mself\u001b[0m\u001b[0;34m)\u001b[0m\u001b[0;34m:\u001b[0m\u001b[0;34m\u001b[0m\u001b[0;34m\u001b[0m\u001b[0m\n\u001b[1;32m    597\u001b[0m         \u001b[0;32mif\u001b[0m \u001b[0mcancellation_manager\u001b[0m \u001b[0;32mis\u001b[0m \u001b[0;32mNone\u001b[0m\u001b[0;34m:\u001b[0m\u001b[0;34m\u001b[0m\u001b[0;34m\u001b[0m\u001b[0m\n\u001b[0;32m--> 598\u001b[0;31m           outputs = execute.execute(\n\u001b[0m\u001b[1;32m    599\u001b[0m               \u001b[0mstr\u001b[0m\u001b[0;34m(\u001b[0m\u001b[0mself\u001b[0m\u001b[0;34m.\u001b[0m\u001b[0msignature\u001b[0m\u001b[0;34m.\u001b[0m\u001b[0mname\u001b[0m\u001b[0;34m)\u001b[0m\u001b[0;34m,\u001b[0m\u001b[0;34m\u001b[0m\u001b[0;34m\u001b[0m\u001b[0m\n\u001b[1;32m    600\u001b[0m               \u001b[0mnum_outputs\u001b[0m\u001b[0;34m=\u001b[0m\u001b[0mself\u001b[0m\u001b[0;34m.\u001b[0m\u001b[0m_num_outputs\u001b[0m\u001b[0;34m,\u001b[0m\u001b[0;34m\u001b[0m\u001b[0;34m\u001b[0m\u001b[0m\n",
      "\u001b[0;32m~/Desktop/freelancing/email-analytics/env/lib/python3.8/site-packages/tensorflow/python/eager/execute.py\u001b[0m in \u001b[0;36mquick_execute\u001b[0;34m(op_name, num_outputs, inputs, attrs, ctx, name)\u001b[0m\n\u001b[1;32m     56\u001b[0m   \u001b[0;32mtry\u001b[0m\u001b[0;34m:\u001b[0m\u001b[0;34m\u001b[0m\u001b[0;34m\u001b[0m\u001b[0m\n\u001b[1;32m     57\u001b[0m     \u001b[0mctx\u001b[0m\u001b[0;34m.\u001b[0m\u001b[0mensure_initialized\u001b[0m\u001b[0;34m(\u001b[0m\u001b[0;34m)\u001b[0m\u001b[0;34m\u001b[0m\u001b[0;34m\u001b[0m\u001b[0m\n\u001b[0;32m---> 58\u001b[0;31m     tensors = pywrap_tfe.TFE_Py_Execute(ctx._handle, device_name, op_name,\n\u001b[0m\u001b[1;32m     59\u001b[0m                                         inputs, attrs, num_outputs)\n\u001b[1;32m     60\u001b[0m   \u001b[0;32mexcept\u001b[0m \u001b[0mcore\u001b[0m\u001b[0;34m.\u001b[0m\u001b[0m_NotOkStatusException\u001b[0m \u001b[0;32mas\u001b[0m \u001b[0me\u001b[0m\u001b[0;34m:\u001b[0m\u001b[0;34m\u001b[0m\u001b[0;34m\u001b[0m\u001b[0m\n",
      "\u001b[0;31mKeyboardInterrupt\u001b[0m: "
     ]
    }
   ],
   "source": [
    "history = model.fit(X_train, target_train, epochs=10,verbose=1, validation_data=(X_test, target_test), batch_size=150)"
   ]
  },
  {
   "cell_type": "code",
   "execution_count": null,
   "metadata": {},
   "outputs": [
    {
     "name": "stdout",
     "output_type": "stream",
     "text": [
      "Model: \"sequential_5\"\n",
      "_________________________________________________________________\n",
      "Layer (type)                 Output Shape              Param #   \n",
      "=================================================================\n",
      "embedding_5 (Embedding)      (None, 60, 100)           2928900   \n",
      "_________________________________________________________________\n",
      "global_max_pooling1d_5 (Glob (None, 100)               0         \n",
      "_________________________________________________________________\n",
      "dense_10 (Dense)             (None, 10)                1010      \n",
      "_________________________________________________________________\n",
      "dense_11 (Dense)             (None, 1)                 11        \n",
      "=================================================================\n",
      "Total params: 2,929,921\n",
      "Trainable params: 2,929,921\n",
      "Non-trainable params: 0\n",
      "_________________________________________________________________\n"
     ]
    }
   ],
   "source": [
    "model.summary()"
   ]
  },
  {
   "cell_type": "code",
   "execution_count": null,
   "metadata": {},
   "outputs": [
    {
     "name": "stdout",
     "output_type": "stream",
     "text": [
      "Training Accuracy: 0.99787\n",
      "Testing Accuracy:  0.73120\n"
     ]
    },
    {
     "data": {
      "image/png": "[encoded data removed]",
      "text/plain": [
       "<Figure size 864x360 with 2 Axes>"
      ]
     },
     "metadata": {
      "needs_background": "light"
     },
     "output_type": "display_data"
    }
   ],
   "source": [
    "loss, accuracy = model.evaluate(X_train, target_train, verbose=False)\n",
    "print(\"Training Accuracy: {:.5f}\".format(accuracy))\n",
    "loss, accuracy = model.evaluate(X_test, target_test, verbose=False)\n",
    "print(\"Testing Accuracy:  {:.5f}\".format(accuracy))\n",
    "plot_history(history)"
   ]
  },
  {
   "cell_type": "markdown",
   "metadata": {},
   "source": [
    "# model 2 using word embedding \n",
    "\n",
    "\"Word embeddings\" are a family of natural language processing techniques aiming at mapping semantic meaning into a geometric space. This is done by associating a numeric vector to every word in a dictionary, such that the distance (e.g. L2 distance or more commonly cosine distance) between any two vectors would capture part of the semantic relationship between the two associated words. The geometric space formed by these vectors is called an embedding space.\n",
    "\n",
    "For instance, \"coconut\" and \"polar bear\" are words that are semantically quite different, so a reasonable embedding space would represent them as vectors that would be very far apart. But \"kitchen\" and \"dinner\" are related words, so they should be embedded close to each other."
   ]
  },
  {
   "cell_type": "markdown",
   "metadata": {},
   "source": [
    "## creating a function that will help in embedding matrix "
   ]
  },
  {
   "cell_type": "code",
   "execution_count": 35,
   "metadata": {},
   "outputs": [],
   "source": [
    "def create_embedding_matrix(filepath, word_index, embedding_dim):\n",
    "   vocab_size = len(word_index) + 1 \n",
    "   embedding_matrix = np.zeros((vocab_size, embedding_dim))\n",
    "\n",
    "   with open(filepath) as f:\n",
    "      for line in f:\n",
    "         word, *vector = line.split()\n",
    "         if word in word_index:\n",
    "            idx = word_index[word] \n",
    "            embedding_matrix[idx] = np.array(vector, dtype=np.float32)[:embedding_dim]\n",
    "   \n",
    "   return embedding_matrix"
   ]
  },
  {
   "cell_type": "code",
   "execution_count": 36,
   "metadata": {},
   "outputs": [],
   "source": [
    "embedding_dim_glove = 50\n",
    "embedding_matrix = create_embedding_matrix('glove.6B.50d.txt', tokenizer.word_index, embedding_dim_glove)"
   ]
  },
  {
   "cell_type": "code",
   "execution_count": null,
   "metadata": {},
   "outputs": [
    {
     "name": "stdout",
     "output_type": "stream",
     "text": [
      "Model: \"sequential_7\"\n",
      "_________________________________________________________________\n",
      "Layer (type)                 Output Shape              Param #   \n",
      "=================================================================\n",
      "embedding_7 (Embedding)      (None, 60, 50)            1464450   \n",
      "_________________________________________________________________\n",
      "conv1d_4 (Conv1D)            (None, 56, 128)           32128     \n",
      "_________________________________________________________________\n",
      "global_max_pooling1d_7 (Glob (None, 128)               0         \n",
      "_________________________________________________________________\n",
      "dense_14 (Dense)             (None, 10)                1290      \n",
      "_________________________________________________________________\n",
      "dense_15 (Dense)             (None, 1)                 11        \n",
      "=================================================================\n",
      "Total params: 1,497,879\n",
      "Trainable params: 1,497,879\n",
      "Non-trainable params: 0\n",
      "_________________________________________________________________\n"
     ]
    }
   ],
   "source": [
    "model2 = Sequential()\n",
    "model2.add(Embedding(vocab_size, embedding_dim_glove, weights=[embedding_matrix], input_length=maxlen, trainable=True))\n",
    "model2.add(Conv1D(128, 5, activation='relu'))\n",
    "model2.add(GlobalMaxPool1D())\n",
    "model2.add(Dense(10, activation='relu'))\n",
    "model2.add(Dense(1, activation='sigmoid'))\n",
    "model2.compile(optimizer='adam', loss='binary_crossentropy', metrics=['accuracy'])\n",
    "model2.summary()"
   ]
  },
  {
   "cell_type": "code",
   "execution_count": null,
   "metadata": {},
   "outputs": [
    {
     "name": "stdout",
     "output_type": "stream",
     "text": [
      "Epoch 1/10\n",
      "250/250 [==============================] - 4s 17ms/step - loss: 0.5704 - accuracy: 0.6981 - val_loss: 0.5166 - val_accuracy: 0.7431\n",
      "Epoch 2/10\n",
      "250/250 [==============================] - 4s 16ms/step - loss: 0.4576 - accuracy: 0.7834 - val_loss: 0.4829 - val_accuracy: 0.7716\n",
      "Epoch 3/10\n",
      "250/250 [==============================] - 4s 16ms/step - loss: 0.3854 - accuracy: 0.8278 - val_loss: 0.4838 - val_accuracy: 0.7742\n",
      "Epoch 4/10\n",
      "250/250 [==============================] - 4s 16ms/step - loss: 0.3163 - accuracy: 0.8667 - val_loss: 0.5053 - val_accuracy: 0.7750\n",
      "Epoch 5/10\n",
      "250/250 [==============================] - 4s 16ms/step - loss: 0.2418 - accuracy: 0.9062 - val_loss: 0.5510 - val_accuracy: 0.7718\n",
      "Epoch 6/10\n",
      "250/250 [==============================] - 4s 16ms/step - loss: 0.1738 - accuracy: 0.9368 - val_loss: 0.6174 - val_accuracy: 0.7657\n",
      "Epoch 7/10\n",
      "250/250 [==============================] - 4s 16ms/step - loss: 0.1167 - accuracy: 0.9613 - val_loss: 0.7244 - val_accuracy: 0.7554\n",
      "Epoch 8/10\n",
      "250/250 [==============================] - 4s 16ms/step - loss: 0.0827 - accuracy: 0.9740 - val_loss: 0.8671 - val_accuracy: 0.7462\n",
      "Epoch 9/10\n",
      "250/250 [==============================] - 4s 16ms/step - loss: 0.0560 - accuracy: 0.9837 - val_loss: 0.8841 - val_accuracy: 0.7511\n",
      "Epoch 10/10\n",
      "250/250 [==============================] - 4s 16ms/step - loss: 0.0392 - accuracy: 0.9900 - val_loss: 1.0063 - val_accuracy: 0.7406\n"
     ]
    }
   ],
   "source": [
    "history2 = model2.fit(X_train, target_train, epochs=10, verbose=1, validation_data=(X_test, target_test), batch_size=150)"
   ]
  },
  {
   "cell_type": "code",
   "execution_count": null,
   "metadata": {},
   "outputs": [
    {
     "name": "stdout",
     "output_type": "stream",
     "text": [
      "Training Accuracy: 0.9977\n",
      "Testing Accuracy:  0.7386\n"
     ]
    }
   ],
   "source": [
    "loss2, accuracy2 = model2.evaluate(X_train, target_train, verbose=False)\n",
    "print(\"Training Accuracy: {:.4f}\".format(accuracy2))\n",
    "loss2, accuracy2 = model2.evaluate(X_test, target_test, verbose=False)\n",
    "print(\"Testing Accuracy:  {:.4f}\".format(accuracy2))"
   ]
  },
  {
   "cell_type": "code",
   "execution_count": null,
   "metadata": {},
   "outputs": [
    {
     "data": {
      "image/png": "[encoded data removed]",
      "text/plain": [
       "<Figure size 864x360 with 2 Axes>"
      ]
     },
     "metadata": {
      "needs_background": "light"
     },
     "output_type": "display_data"
    }
   ],
   "source": [
    "plot_history(history2)"
   ]
  },
  {
   "cell_type": "markdown",
   "metadata": {},
   "source": [
    "# Model 3 using sequential model using the lstm \n",
    "\n",
    "Long Short Term Memory networks – usually just called “LSTMs” – are a special kind of RNN, capable of learning long-term dependencies. They were introduced by Hochreiter & Schmidhuber (1997), and were refined and popularized by many people in following work.1 They work tremendously well on a large variety of problems, and are now widely used.\n",
    "\n",
    "LSTMs are explicitly designed to avoid the long-term dependency problem. Remembering information for long periods of time is practically their default behavior, not something they struggle to learn!\n",
    "\n",
    "All recurrent neural networks have the form of a chain of repeating modules of neural network. In standard RNNs, this repeating module will have a very simple structure, such as a single tanh layer."
   ]
  },
  {
   "cell_type": "code",
   "execution_count": 37,
   "metadata": {},
   "outputs": [
    {
     "name": "stdout",
     "output_type": "stream",
     "text": [
      "Model: \"sequential_2\"\n",
      "_________________________________________________________________\n",
      " Layer (type)                Output Shape              Param #   \n",
      "=================================================================\n",
      " embedding_2 (Embedding)     (None, 60, 50)            1464450   \n",
      "                                                                 \n",
      " spatial_dropout1d (SpatialD  (None, 60, 50)           0         \n",
      " ropout1D)                                                       \n",
      "                                                                 \n",
      " conv1d (Conv1D)             (None, 56, 128)           32128     \n",
      "                                                                 \n",
      " bidirectional (Bidirectiona  (None, 56, 8)            4256      \n",
      " l)                                                              \n",
      "                                                                 \n",
      " conv1d_1 (Conv1D)           (None, 52, 128)           5248      \n",
      "                                                                 \n",
      " global_max_pooling1d_2 (Glo  (None, 128)              0         \n",
      " balMaxPooling1D)                                                \n",
      "                                                                 \n",
      " dropout (Dropout)           (None, 128)               0         \n",
      "                                                                 \n",
      " dense_4 (Dense)             (None, 10)                1290      \n",
      "                                                                 \n",
      " dense_5 (Dense)             (None, 1)                 11        \n",
      "                                                                 \n",
      "=================================================================\n",
      "Total params: 1,507,383\n",
      "Trainable params: 1,507,383\n",
      "Non-trainable params: 0\n",
      "_________________________________________________________________\n"
     ]
    }
   ],
   "source": [
    "model3 = Sequential()\n",
    "model3.add(Embedding(vocab_size, embedding_dim_glove, weights=[embedding_matrix], input_length=maxlen, trainable=True))\n",
    "model3.add(SpatialDropout1D(0.1))\n",
    "model3.add(Conv1D(128, 5, activation='relu'))\n",
    "model3.add(Bidirectional(LSTM(4, return_sequences=True)))\n",
    "model3.add(Conv1D(128, 5, activation='relu'))\n",
    "model3.add(GlobalMaxPool1D())\n",
    "model3.add(Dropout(0.25))\n",
    "model3.add(Dense(10, activation='relu'))\n",
    "model3.add(Dense(1, activation='sigmoid'))\n",
    "model3.compile(optimizer='adam', loss='binary_crossentropy', metrics=['accuracy'])\n",
    "\n",
    "model3.summary()"
   ]
  },
  {
   "cell_type": "code",
   "execution_count": 38,
   "metadata": {},
   "outputs": [
    {
     "name": "stdout",
     "output_type": "stream",
     "text": [
      "Epoch 1/15\n",
      "250/250 [==============================] - 23s 80ms/step - loss: 0.6003 - accuracy: 0.6773 - val_loss: 0.5265 - val_accuracy: 0.7414\n",
      "Epoch 2/15\n",
      "250/250 [==============================] - 17s 68ms/step - loss: 0.4990 - accuracy: 0.7597 - val_loss: 0.4848 - val_accuracy: 0.7718\n",
      "Epoch 3/15\n",
      "250/250 [==============================] - 17s 69ms/step - loss: 0.4425 - accuracy: 0.7958 - val_loss: 0.4970 - val_accuracy: 0.7614\n",
      "Epoch 4/15\n",
      "250/250 [==============================] - 17s 68ms/step - loss: 0.3958 - accuracy: 0.8223 - val_loss: 0.4839 - val_accuracy: 0.7802\n",
      "Epoch 5/15\n",
      "250/250 [==============================] - 17s 68ms/step - loss: 0.3494 - accuracy: 0.8490 - val_loss: 0.4964 - val_accuracy: 0.7788\n",
      "Epoch 6/15\n",
      "250/250 [==============================] - 17s 68ms/step - loss: 0.3049 - accuracy: 0.8713 - val_loss: 0.5425 - val_accuracy: 0.7791\n",
      "Epoch 7/15\n",
      "250/250 [==============================] - 17s 68ms/step - loss: 0.2694 - accuracy: 0.8897 - val_loss: 0.5403 - val_accuracy: 0.7750\n",
      "Epoch 8/15\n",
      "250/250 [==============================] - 17s 68ms/step - loss: 0.2365 - accuracy: 0.9032 - val_loss: 0.5860 - val_accuracy: 0.7711\n",
      "Epoch 9/15\n",
      "250/250 [==============================] - 17s 68ms/step - loss: 0.2070 - accuracy: 0.9170 - val_loss: 0.6249 - val_accuracy: 0.7656\n",
      "Epoch 10/15\n",
      "250/250 [==============================] - 17s 68ms/step - loss: 0.1817 - accuracy: 0.9280 - val_loss: 0.6631 - val_accuracy: 0.7681\n",
      "Epoch 11/15\n",
      "250/250 [==============================] - 17s 68ms/step - loss: 0.1627 - accuracy: 0.9361 - val_loss: 0.7543 - val_accuracy: 0.7670\n",
      "Epoch 12/15\n",
      "250/250 [==============================] - 17s 69ms/step - loss: 0.1482 - accuracy: 0.9418 - val_loss: 0.7623 - val_accuracy: 0.7651\n",
      "Epoch 13/15\n",
      "250/250 [==============================] - 24s 96ms/step - loss: 0.1332 - accuracy: 0.9483 - val_loss: 0.8385 - val_accuracy: 0.7631\n",
      "Epoch 14/15\n",
      "250/250 [==============================] - 19s 76ms/step - loss: 0.1193 - accuracy: 0.9534 - val_loss: 0.8112 - val_accuracy: 0.7586\n",
      "Epoch 15/15\n",
      "250/250 [==============================] - 17s 70ms/step - loss: 0.1102 - accuracy: 0.9578 - val_loss: 0.8802 - val_accuracy: 0.7620\n"
     ]
    }
   ],
   "source": [
    "history3 = model3.fit(X_train, target_train, epochs=15, verbose=1, validation_data=(X_test, target_test), batch_size=150)"
   ]
  },
  {
   "cell_type": "code",
   "execution_count": 39,
   "metadata": {},
   "outputs": [
    {
     "name": "stdout",
     "output_type": "stream",
     "text": [
      "Training Accuracy: 0.9796\n",
      "Testing Accuracy:  0.7620\n"
     ]
    },
    {
     "data": {
      "image/png": "[encoded data removed]",
      "text/plain": [
       "<Figure size 864x360 with 2 Axes>"
      ]
     },
     "metadata": {
      "needs_background": "light"
     },
     "output_type": "display_data"
    }
   ],
   "source": [
    "loss3, accuracy3 = model3.evaluate(X_train, target_train, verbose=False)\n",
    "print(\"Training Accuracy: {:.4f}\".format(accuracy3))\n",
    "loss3, accuracy3 = model3.evaluate(X_test, target_test, verbose=False)\n",
    "print(\"Testing Accuracy:  {:.4f}\".format(accuracy3))\n",
    "plot_history(history3)"
   ]
  },
  {
   "cell_type": "code",
   "execution_count": 40,
   "metadata": {},
   "outputs": [],
   "source": [
    "def transform_sentences_to_sequences(sentences, tokenizer, maxlen):\n",
    "   texts = tokenizer.texts_to_sequences(sentences)\n",
    "   texts = pad_sequences(texts, padding='post', maxlen=maxlen)\n",
    "   return texts"
   ]
  },
  {
   "cell_type": "code",
   "execution_count": 41,
   "metadata": {},
   "outputs": [],
   "source": [
    "def to_cat(prediction):\n",
    "   prediction[prediction > 0.5] = 1\n",
    "\n",
    "def predict_all_model(texts, list_model, tokenizer):\n",
    "   list_pred = []\n",
    "   for model in list_model:\n",
    "      texts_to_pred = transform_sentences_to_sequences(texts, tokenizer, maxlen=maxlen)\n",
    "      pred = model.predict(texts_to_pred)\n",
    "      pred = to_cat(pred)\n",
    "      list_pred.append(pred)\n",
    "   return list_pred"
   ]
  },
  {
   "cell_type": "code",
   "execution_count": 42,
   "metadata": {},
   "outputs": [],
   "source": [
    "is_negative_test = data_set['target'] == 0\n",
    "is_positive_test = data_set['target'] == 1\n",
    "\n",
    "negatives = data_set[is_negative_test]\n",
    "positives = data_set[is_positive_test]\n",
    "\n",
    "\n",
    "test_positives = positives[5001:30000]\n",
    "test_negatives = negatives[5001:30000]\n",
    "\n",
    "# create a shuffled sample containing the same proportion of positive and negative than in the original file\n",
    "test_example = pd.concat([test_positives, test_negatives])\n",
    "test_example = test_example.sample(frac=1)"
   ]
  },
  {
   "cell_type": "code",
   "execution_count": 43,
   "metadata": {},
   "outputs": [],
   "source": [
    "test_example['target'].replace({4: 1}, inplace=True)\n",
    "test_example['text'] = test_example['text'].map(lambda x: clean_data(x))\n",
    "text_to_pred = test_example['text']\n",
    "target_values = test_example['target']"
   ]
  },
  {
   "cell_type": "code",
   "execution_count": 44,
   "metadata": {},
   "outputs": [],
   "source": [
    "\n",
    "def predict_all_model(texts, list_model, tokenizer):\n",
    "   list_pred = []\n",
    "   for model in list_model:\n",
    "      texts_to_pred = transform_sentences_to_sequences(texts, tokenizer, maxlen=maxlen)\n",
    "      pred = model.predict(texts_to_pred)\n",
    "      pred = pred.reshape(-1)\n",
    "   \n",
    "      pred[pred > 0.5] = 1\n",
    "      pred[pred <= 0.5] = 0\n",
    "      list_pred.append(pred)\n",
    "   return list_pred\n",
    "\n",
    "\n",
    "def get_confusion_matrix(list_prediction, actual_value):\n",
    "   list_confusion_matrix = []\n",
    "   for index, prediction in enumerate(list_prediction, start=1):\n",
    "      column_name = 'Predicted_model{}'.format(index)\n",
    "      data = {'y_Actual': actual_value.to_numpy(), 'y_Predicted_model': prediction}\n",
    "      print(data)\n",
    "      df = pd.DataFrame(data, columns=['y_Actual', 'y_Predicted_model'])\n",
    "      confusion_matrix = pd.crosstab(df['y_Actual'], df['y_Predicted_model'], rownames=['Actual'], colnames=[column_name])\n",
    "      list_confusion_matrix.append(confusion_matrix)\n",
    "   return list_confusion_matrix"
   ]
  },
  {
   "cell_type": "code",
   "execution_count": 45,
   "metadata": {},
   "outputs": [
    {
     "ename": "NameError",
     "evalue": "name 'model2' is not defined",
     "output_type": "error",
     "traceback": [
      "\u001b[0;31m---------------------------------------------------------------------------\u001b[0m",
      "\u001b[0;31mNameError\u001b[0m                                 Traceback (most recent call last)",
      "\u001b[0;32m/tmp/ipykernel_96215/389560043.py\u001b[0m in \u001b[0;36m<module>\u001b[0;34m\u001b[0m\n\u001b[0;32m----> 1\u001b[0;31m \u001b[0mpredictions\u001b[0m \u001b[0;34m=\u001b[0m \u001b[0mpredict_all_model\u001b[0m\u001b[0;34m(\u001b[0m\u001b[0mtext_to_pred\u001b[0m\u001b[0;34m,\u001b[0m \u001b[0;34m[\u001b[0m\u001b[0mmodel\u001b[0m\u001b[0;34m,\u001b[0m \u001b[0mmodel2\u001b[0m\u001b[0;34m,\u001b[0m \u001b[0mmodel3\u001b[0m\u001b[0;34m]\u001b[0m\u001b[0;34m,\u001b[0m \u001b[0mtokenizer\u001b[0m\u001b[0;34m)\u001b[0m\u001b[0;34m\u001b[0m\u001b[0;34m\u001b[0m\u001b[0m\n\u001b[0m\u001b[1;32m      2\u001b[0m \u001b[0mlist_confusion_matrix\u001b[0m \u001b[0;34m=\u001b[0m \u001b[0mget_confusion_matrix\u001b[0m\u001b[0;34m(\u001b[0m\u001b[0mpredictions\u001b[0m\u001b[0;34m,\u001b[0m \u001b[0mtarget_values\u001b[0m\u001b[0;34m)\u001b[0m\u001b[0;34m\u001b[0m\u001b[0;34m\u001b[0m\u001b[0m\n",
      "\u001b[0;31mNameError\u001b[0m: name 'model2' is not defined"
     ]
    }
   ],
   "source": [
    "predictions = predict_all_model(text_to_pred, [model, model2, model3], tokenizer)\n",
    "list_confusion_matrix = get_confusion_matrix(predictions, target_values)"
   ]
  },
  {
   "cell_type": "code",
   "execution_count": null,
   "metadata": {},
   "outputs": [
    {
     "name": "stdout",
     "output_type": "stream",
     "text": [
      "Predicted_model1    0.0    1.0\n",
      "Actual                        \n",
      "0                 18610   1388\n",
      "1                  1248  18750\n",
      "\n",
      "\n",
      "Predicted_model2    0.0    1.0\n",
      "Actual                        \n",
      "0                 18478   1520\n",
      "1                  1173  18825\n",
      "\n",
      "\n",
      "Predicted_model3    0.0    1.0\n",
      "Actual                        \n",
      "0                 18471   1527\n",
      "1                  1345  18653\n",
      "\n",
      "\n"
     ]
    }
   ],
   "source": [
    "for confusion_matrix in list_confusion_matrix:\n",
    "    print(confusion_matrix, end='\\n\\n\\n')"
   ]
  },
  {
   "cell_type": "markdown",
   "metadata": {},
   "source": [
    "3 model predictions values are gud compare to other value "
   ]
  },
  {
   "cell_type": "code",
   "execution_count": null,
   "metadata": {},
   "outputs": [],
   "source": [
    "\n",
    "pred = model.predict([transform_sentences_to_sequences(\"hey how are you\", tokenizer, maxlen=maxlen)])"
   ]
  },
  {
   "cell_type": "code",
   "execution_count": null,
   "metadata": {},
   "outputs": [
    {
     "data": {
      "text/plain": [
       "812727                               He played ball with me\n",
       "16669                       My ankle hurts time for sleep .\n",
       "20756                                    A i lost my wallet\n",
       "822608                                                     \n",
       "810258    Please show the way around here . He needs to ...\n",
       "Name: text, dtype: object"
      ]
     },
     "execution_count": 150,
     "metadata": {},
     "output_type": "execute_result"
    }
   ],
   "source": [
    "text_to_pred.head()"
   ]
  },
  {
   "cell_type": "code",
   "execution_count": null,
   "metadata": {},
   "outputs": [
    {
     "data": {
      "text/plain": [
       "array([[0.9954134 ],\n",
       "       [0.04356766],\n",
       "       [0.42026722],\n",
       "       [0.5648705 ],\n",
       "       [0.9954134 ],\n",
       "       [0.8426626 ],\n",
       "       [0.23132324],\n",
       "       [0.5648705 ],\n",
       "       [0.00269383],\n",
       "       [0.99031496],\n",
       "       [0.04356766],\n",
       "       [0.5648705 ],\n",
       "       [0.42026734],\n",
       "       [0.8426624 ],\n",
       "       [0.47687697]], dtype=float32)"
      ]
     },
     "execution_count": 151,
     "metadata": {},
     "output_type": "execute_result"
    }
   ],
   "source": [
    "pred"
   ]
  },
  {
   "cell_type": "code",
   "execution_count": null,
   "metadata": {},
   "outputs": [],
   "source": [
    "pred[pred > 0.5] = 1"
   ]
  },
  {
   "cell_type": "code",
   "execution_count": null,
   "metadata": {},
   "outputs": [],
   "source": [
    "pred[pred <= 0.5] = 0\n"
   ]
  },
  {
   "cell_type": "code",
   "execution_count": null,
   "metadata": {},
   "outputs": [
    {
     "data": {
      "text/plain": [
       "array([[1.],\n",
       "       [0.],\n",
       "       [0.],\n",
       "       [1.],\n",
       "       [1.],\n",
       "       [1.],\n",
       "       [0.],\n",
       "       [1.],\n",
       "       [0.],\n",
       "       [1.],\n",
       "       [0.],\n",
       "       [1.],\n",
       "       [0.],\n",
       "       [1.],\n",
       "       [0.]], dtype=float32)"
      ]
     },
     "execution_count": 154,
     "metadata": {},
     "output_type": "execute_result"
    }
   ],
   "source": [
    "pred"
   ]
  },
  {
   "cell_type": "code",
   "execution_count": 46,
   "metadata": {},
   "outputs": [],
   "source": [
    "def transform_sentence_to_sequence(sentence, tokenizer, maxlen):\n",
    "   texts = tokenizer.texts_to_sequences([sentence])\n",
    "   texts = pad_sequences(texts, padding='post', maxlen=maxlen)\n",
    "   return texts"
   ]
  },
  {
   "cell_type": "code",
   "execution_count": 49,
   "metadata": {},
   "outputs": [],
   "source": [
    "pred = model3.predict([transform_sentence_to_sequence(\"i am sad  with you services\", tokenizer, maxlen=maxlen)])"
   ]
  },
  {
   "cell_type": "code",
   "execution_count": 50,
   "metadata": {},
   "outputs": [
    {
     "data": {
      "text/plain": [
       "array([[0.00120613]], dtype=float32)"
      ]
     },
     "execution_count": 50,
     "metadata": {},
     "output_type": "execute_result"
    }
   ],
   "source": [
    "pred"
   ]
  },
  {
   "cell_type": "code",
   "execution_count": 51,
   "metadata": {},
   "outputs": [],
   "source": [
    "model3.save('lstm.h5')"
   ]
  },
  {
   "cell_type": "code",
   "execution_count": 52,
   "metadata": {},
   "outputs": [],
   "source": [
    "import keras\n",
    "\n",
    "test_model =keras.models.load_model('lstm.h5')"
   ]
  },
  {
   "cell_type": "code",
   "execution_count": 53,
   "metadata": {},
   "outputs": [],
   "source": [
    "pred = test_model.predict([transform_sentence_to_sequence(\"i am sad  with you services\", tokenizer, maxlen=maxlen)])"
   ]
  },
  {
   "cell_type": "code",
   "execution_count": 58,
   "metadata": {},
   "outputs": [
    {
     "name": "stdout",
     "output_type": "stream",
     "text": [
      "[[0.00120613]]\n"
     ]
    }
   ],
   "source": [
    "print(pred)"
   ]
  },
  {
   "cell_type": "code",
   "execution_count": 60,
   "metadata": {},
   "outputs": [
    {
     "name": "stdout",
     "output_type": "stream",
     "text": [
      "[[0 0 0 0 0 0 0 0 0 0 0 0 0 0 0 0 0 0 0 0 0 0 0 0 0 0 0 0 0 0 0 0 0 0 0 0\n",
      "  0 0 0 0 0 0 0 0 0 0 0 0 0 0 0 0 0 0 0 0 0 0 0 0]]\n",
      "<class 'numpy.ndarray'>\n",
      "[[0.53108114]]\n"
     ]
    }
   ],
   "source": [
    "import keras\n",
    "from keras.preprocessing.text import Tokenizer\n",
    "from keras.preprocessing.sequence import pad_sequences\n",
    "\n",
    "\n",
    "model3 = keras.models.load_model('lstm.h5')\n",
    "\n",
    "\n",
    "def transform_sentence_to_sequence(sentence, tokenizer, maxlen):\n",
    "   texts = tokenizer.texts_to_sequences([sentence])\n",
    "   texts = pad_sequences(texts, padding='post', maxlen=maxlen)\n",
    "   print(texts)\n",
    "   return texts\n",
    "\n",
    "\n",
    "maxlen = 60  \n",
    "tokenizer = Tokenizer()\n",
    "# tokenizer.fit_on_texts(train_data)\n",
    "pred = model3.predict([transform_sentence_to_sequence(\"i am sad  with you services\", tokenizer, maxlen=maxlen)])\n",
    "\n",
    "print(type(pred))\n",
    "print(pred.view())"
   ]
  }
 ],
 "metadata": {
  "interpreter": {
   "hash": "ad8a58460e4d4cdc700ccf903b0955d1041e5dc11b40843490f07e52aec736db"
  },
  "kernelspec": {
   "display_name": "Python 3.8.10 64-bit ('env': venv)",
   "name": "python3"
  },
  "language_info": {
   "codemirror_mode": {
    "name": "ipython",
    "version": 3
   },
   "file_extension": ".py",
   "mimetype": "text/x-python",
   "name": "python",
   "nbconvert_exporter": "python",
   "pygments_lexer": "ipython3",
   "version": "3.8.10"
  },
  "orig_nbformat": 4
 },
 "nbformat": 4,
 "nbformat_minor": 2
}
